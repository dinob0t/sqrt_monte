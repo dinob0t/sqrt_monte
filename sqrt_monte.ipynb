{
 "metadata": {
  "name": "",
  "signature": "sha256:2047f58dead42aa07747457556363719e17ad2f3341e0a392aadce3025ea8f70"
 },
 "nbformat": 3,
 "nbformat_minor": 0,
 "worksheets": [
  {
   "cells": [
    {
     "cell_type": "code",
     "collapsed": false,
     "input": [
      "# Optimal 0x5f37642f - 1597465647 \n",
      "# Carmack  0x5f3759df - 1597463007 \n",
      "# Better 0x5f375a86 - 1597463174 \n",
      "# print int('0x5f375a86',16)\n",
      "# print bin(int('0x5f375a86',16))"
     ],
     "language": "python",
     "metadata": {},
     "outputs": [],
     "prompt_number": 1
    },
    {
     "cell_type": "code",
     "collapsed": false,
     "input": [
      "# Better\n",
      "# float InvSqrt(float x)\n",
      "# {\n",
      "#   float xhalf = 0.5f*x;\n",
      "#   int i = *(int*)&x; // get bits for floating value\n",
      "#   i = 0x5f375a86- (i>>1); // gives initial guess y0\n",
      "#   x = *(float*)&i; // convert bits back to float\n",
      "#   x = x*(1.5f-xhalf*x*x); // Newton step, repeating increases accuracy\n",
      "#   return x;\n",
      "# }"
     ],
     "language": "python",
     "metadata": {},
     "outputs": [],
     "prompt_number": 2
    },
    {
     "cell_type": "code",
     "collapsed": false,
     "input": [
      "# def newtown_inv_sqrt(x0, S):\n",
      "#     xn = (3.0-S*x0**2.0)*x0/2.0 \n",
      "#     return xn"
     ],
     "language": "python",
     "metadata": {},
     "outputs": [],
     "prompt_number": 3
    },
    {
     "cell_type": "code",
     "collapsed": false,
     "input": [
      "# x1 = 0.08\n",
      "# for i in range(10):\n",
      "#     xn1 =  newtown_inv_sqrt(x1,100.0)\n",
      "#     print xn1\n",
      "#     x1 = xn1\n",
      "# print 1.0/(x1**2.0)"
     ],
     "language": "python",
     "metadata": {},
     "outputs": [],
     "prompt_number": 4
    },
    {
     "cell_type": "code",
     "collapsed": false,
     "input": [
      "import struct\n",
      "import numpy as np\n",
      "from IPython.core.pylabtools import figsize\n",
      "from matplotlib import pyplot as plt\n",
      "from bitstring import BitArray\n",
      "from scipy.stats.mstats import mode\n",
      "\n",
      "from mpl_toolkits.mplot3d import Axes3D\n",
      "from mpl_toolkits.mplot3d import proj3d\n",
      "\n",
      "# %matplotlib inline"
     ],
     "language": "python",
     "metadata": {},
     "outputs": [],
     "prompt_number": 1
    },
    {
     "cell_type": "code",
     "collapsed": false,
     "input": [
      "# def new_sqrt(x):\n",
      "#     last_guess= 1597465647 x/2.0\n",
      "#     while True:\n",
      "#         guess= (last_guess + x/last_guess)/2\n",
      "#         if abs(guess - last_guess) < .000001: # example threshold\n",
      "#             return guess\n",
      "#         last_guess= guess\n",
      "#         print last_guess"
     ],
     "language": "python",
     "metadata": {},
     "outputs": [],
     "prompt_number": 6
    },
    {
     "cell_type": "code",
     "collapsed": false,
     "input": [
      "def shift_right(string_in,n):\n",
      "    string_out = '0'*n+string_in\n",
      "    return string_out[:-n]"
     ],
     "language": "python",
     "metadata": {},
     "outputs": [],
     "prompt_number": 2
    },
    {
     "cell_type": "code",
     "collapsed": false,
     "input": [
      "def estimate_1_sqrt(x, magic):\n",
      "#     print x, magic\n",
      "    x = BitArray(float=x, length=32)\n",
      "#     print x\n",
      "    x.bin = shift_right(x.bin,1)\n",
      "#     print x\n",
      "    guess = magic - x.int\n",
      "#     print guess, x, x.int\n",
      "    x.int = guess\n",
      "    return x.float"
     ],
     "language": "python",
     "metadata": {},
     "outputs": [],
     "prompt_number": 3
    },
    {
     "cell_type": "code",
     "collapsed": false,
     "input": [
      "# estimate_1_sqrt(1.15625,1597463007)"
     ],
     "language": "python",
     "metadata": {},
     "outputs": [],
     "prompt_number": 9
    },
    {
     "cell_type": "code",
     "collapsed": false,
     "input": [
      "# 1/np.sqrt(1.15625)"
     ],
     "language": "python",
     "metadata": {},
     "outputs": [],
     "prompt_number": 10
    },
    {
     "cell_type": "code",
     "collapsed": false,
     "input": [
      "import pymc as pm"
     ],
     "language": "python",
     "metadata": {},
     "outputs": [],
     "prompt_number": 5
    },
    {
     "cell_type": "code",
     "collapsed": false,
     "input": [
      "# alpha = 1.0 / 1597463007  \n",
      "                               \n",
      "# lambda1 = pm.Exponential(\"lambda1\", alpha)\n",
      "# magics = pm.Poisson(\"magics\", lambda1)\n",
      "\n",
      "magics = pm.DiscreteUniform(\"magics\",lower = 1590000000, upper = 1620000000)\n",
      "\n",
      "nums = pm.Exponential(\"nums\", 1)"
     ],
     "language": "python",
     "metadata": {},
     "outputs": [],
     "prompt_number": 6
    },
    {
     "cell_type": "code",
     "collapsed": false,
     "input": [
      "# @pm.deterministic\n",
      "# def delta(nums=nums,magics=magics):\n",
      "#     guess = estimate_1_sqrt(nums, magics)\n",
      "#     return abs(guess-1.0/np.sqrt(nums))"
     ],
     "language": "python",
     "metadata": {},
     "outputs": [],
     "prompt_number": 13
    },
    {
     "cell_type": "code",
     "collapsed": false,
     "input": [
      "def delta_test(n,m):\n",
      "    guess = estimate_1_sqrt(n, m)\n",
      "    return abs(guess-1.0/np.sqrt(n))"
     ],
     "language": "python",
     "metadata": {},
     "outputs": [],
     "prompt_number": 7
    },
    {
     "cell_type": "code",
     "collapsed": false,
     "input": [
      "# observation = pm.DiscreteUniform(\"obs\", lower=0.0001, upper=0.0002,value = 0.0001, observed=True)\n",
      "\n",
      "# model = pm.Model([observation, magics])"
     ],
     "language": "python",
     "metadata": {},
     "outputs": [],
     "prompt_number": 15
    },
    {
     "cell_type": "code",
     "collapsed": false,
     "input": [
      "# observation.value"
     ],
     "language": "python",
     "metadata": {},
     "outputs": [],
     "prompt_number": 16
    },
    {
     "cell_type": "code",
     "collapsed": false,
     "input": [
      "# mcmc = pm.MCMC(model)\n",
      "# mcmc.sample(40000,10000, 1)"
     ],
     "language": "python",
     "metadata": {},
     "outputs": [],
     "prompt_number": 17
    },
    {
     "cell_type": "code",
     "collapsed": false,
     "input": [
      "# lambda1_samples = mcmc.trace('lambda1')[:]\n",
      "# obs_samples = mcmc.trace('obs')[:]\n",
      "# magics_samples = mcmc.trace('magics')[:]"
     ],
     "language": "python",
     "metadata": {},
     "outputs": [],
     "prompt_number": 18
    },
    {
     "cell_type": "code",
     "collapsed": false,
     "input": [
      "# mcmc.trace('obs')"
     ],
     "language": "python",
     "metadata": {},
     "outputs": [],
     "prompt_number": 19
    },
    {
     "cell_type": "code",
     "collapsed": false,
     "input": [
      "# plt.scatter(range(len(magics_samples)), (magics_samples))\n",
      "# plt.show()"
     ],
     "language": "python",
     "metadata": {},
     "outputs": [],
     "prompt_number": 20
    },
    {
     "cell_type": "code",
     "collapsed": false,
     "input": [
      "# delta_test(nums.random(),1590017610 )"
     ],
     "language": "python",
     "metadata": {},
     "outputs": [],
     "prompt_number": 21
    },
    {
     "cell_type": "code",
     "collapsed": false,
     "input": [
      "# mode(magics_samples,axis=None)[0].astype(np.int)"
     ],
     "language": "python",
     "metadata": {},
     "outputs": [],
     "prompt_number": 22
    },
    {
     "cell_type": "code",
     "collapsed": false,
     "input": [
      "# np.mean(magics_samples)"
     ],
     "language": "python",
     "metadata": {},
     "outputs": [],
     "prompt_number": 23
    },
    {
     "cell_type": "code",
     "collapsed": false,
     "input": [
      "# np.median(magics_samples)"
     ],
     "language": "python",
     "metadata": {},
     "outputs": [],
     "prompt_number": 24
    },
    {
     "cell_type": "code",
     "collapsed": false,
     "input": [
      "samples = 10000\n",
      "results = np.zeros([samples,3])"
     ],
     "language": "python",
     "metadata": {},
     "outputs": [],
     "prompt_number": 54
    },
    {
     "cell_type": "code",
     "collapsed": false,
     "input": [
      "for i in range(samples):\n",
      "    num = nums.random()\n",
      "    magic = magics.random()\n",
      "    z = delta_test(num,magic)\n",
      "\n",
      "    results[i,0] = num\n",
      "    results[i,1] = magic\n",
      "    results[i,2] = z"
     ],
     "language": "python",
     "metadata": {},
     "outputs": [],
     "prompt_number": 55
    },
    {
     "cell_type": "code",
     "collapsed": false,
     "input": [
      "# steps = 1000.0\n",
      "\n",
      "# x_min = np.min(results[:,0])\n",
      "# x_max =np.max(results[:,0])\n",
      "# hx = (x_max - x_min)/steps\n",
      "              \n",
      "# y_min=np.min(results[:,1])\n",
      "# y_max=np.max(results[:,1])\n",
      "# hy = (y_max - y_min)/steps\n",
      "                         \n",
      "# xx, yy = np.meshgrid((np.arange(x_min,x_max), hx),np.arange(y_min, y_max, hy))"
     ],
     "language": "python",
     "metadata": {},
     "outputs": [],
     "prompt_number": 27
    },
    {
     "cell_type": "code",
     "collapsed": false,
     "input": [
      "\n",
      "fig = plt.figure(figsize=(10, 10))\n",
      "\n",
      "ax = fig.add_subplot(1,1,1, projection='3d')\n",
      "# ax.set_autoscaley_on(False)\n",
      "# ax.contourf(xx, yy, results, alpha=.8)\n",
      "x = np.log(results[:,0])\n",
      "y = results[:,1]\n",
      "z = np.log(results[:,2])\n",
      "ax.scatter(x,y,z, 'o', alpha=0.2,c=z)\n",
      "# ax.show()\n",
      "plt.show()"
     ],
     "language": "python",
     "metadata": {},
     "outputs": [],
     "prompt_number": 28
    },
    {
     "cell_type": "code",
     "collapsed": false,
     "input": [
      "samples = 100\n",
      "\n",
      "def delta_test_fmin(m):\n",
      "#     print m, num\n",
      "    m=int(round(m))\n",
      "    guess = estimate_1_sqrt(num, m)\n",
      "#     print guess\n",
      "#     print guess, 'hi'\n",
      "#     return np.sqrt((guess**2.0-1.0/num))\n",
      "    return abs((guess-1.0/np.sqrt(num)))\n",
      "\n",
      "from scipy.optimize import fmin\n",
      "restarts = 100\n",
      "results = np.zeros([samples,2])\n",
      "\n",
      "for i in range(samples):\n",
      "    num = nums.random()\n",
      "    for j in range(restarts):\n",
      "        magic = magics.random()\n",
      "#         z = delta_test_fmin(magic)\n",
      "        xopt, fopt, _, _, _ = fmin(delta_test_fmin,magic, full_output =True, disp =False)\n",
      "        if j == 0:\n",
      "            cur_min =fopt\n",
      "            cur_res = xopt\n",
      "        elif fopt<cur_min:\n",
      "            cur_min = fopt\n",
      "            cur_res=xopt\n",
      "\n",
      "    results[i,0] = num\n",
      "    results[i,1] = cur_res\n",
      "#     results[i,2] = z"
     ],
     "language": "python",
     "metadata": {},
     "outputs": [],
     "prompt_number": 32
    },
    {
     "cell_type": "code",
     "collapsed": false,
     "input": [
      "\n",
      "fig = plt.figure(figsize=(10, 10))\n",
      "\n",
      "ax = fig.add_subplot(1,1,1)\n",
      "# ax.set_autoscaley_on(False)\n",
      "# ax.contourf(xx, yy, results, alpha=.8)\n",
      "x = (results[:,0])\n",
      "y = (results[:,1])\n",
      "# z = np.log(results[:,2])\n",
      "ax.plot(x,y, 'o', alpha=0.8)\n",
      "plt.show()"
     ],
     "language": "python",
     "metadata": {},
     "outputs": [],
     "prompt_number": 33
    },
    {
     "cell_type": "code",
     "collapsed": false,
     "input": [
      "results[:,0]"
     ],
     "language": "python",
     "metadata": {},
     "outputs": [
      {
       "metadata": {},
       "output_type": "pyout",
       "prompt_number": 16,
       "text": [
        "array([ 0.88838538,  0.32647904,  0.29233213,  3.29305522,  1.59876146,\n",
        "        3.67950967,  0.62992485,  3.33136879,  1.0516974 ,  2.69129261,\n",
        "        0.37671325,  0.09692398,  0.2383859 ,  0.529063  ,  0.53374258,\n",
        "        0.60570045,  0.27900255,  3.60645371,  0.03027887,  2.58851602,\n",
        "        1.07783502,  0.24551494,  0.52698209,  0.06906322,  0.71596707,\n",
        "        1.56092591,  0.39417926,  0.97392816,  1.81749374,  0.75997735,\n",
        "        0.61223335,  0.33206905,  0.87672881,  0.05868363,  0.10335228,\n",
        "        0.81203296,  0.27362264,  0.03185804,  0.42500813,  0.40078746,\n",
        "        0.39020132,  3.36761897,  0.02072332,  0.12670022,  0.74539901,\n",
        "        0.1398618 ,  1.17135798,  4.93613168,  0.27396648,  0.23019744,\n",
        "        0.14886325,  0.46174767,  1.09179565,  0.74987186,  0.78759654,\n",
        "        0.38579472,  0.69534522,  0.18631197,  0.22022434,  1.6430588 ,\n",
        "        1.5340461 ,  1.48022719,  1.76466961,  0.76480908,  3.20565652,\n",
        "        0.06031659,  0.39896957,  1.26887179,  0.34889544,  0.44915989,\n",
        "        2.43762377,  0.77699392,  0.2388368 ,  0.49554292,  1.319231  ,\n",
        "        1.58874149,  3.99016958,  0.12759456,  0.06619675,  0.06940472,\n",
        "        0.2051289 ,  0.26546735,  0.05274089,  0.24892041,  0.48701827,\n",
        "        0.31450884,  2.26585609,  0.64549699,  1.53967022,  0.46485801,\n",
        "        0.70408221,  1.2842433 ,  0.72344473,  0.14173283,  2.65012066,\n",
        "        1.14676491,  0.03625284,  0.17738847,  0.13055594,  0.20672747])"
       ]
      }
     ],
     "prompt_number": 16
    },
    {
     "cell_type": "code",
     "collapsed": false,
     "input": [
      "np.mean(results[:,1])"
     ],
     "language": "python",
     "metadata": {},
     "outputs": [
      {
       "metadata": {},
       "output_type": "pyout",
       "prompt_number": 34,
       "text": [
        "1597279719.4664314"
       ]
      }
     ],
     "prompt_number": 34
    },
    {
     "cell_type": "code",
     "collapsed": false,
     "input": [
      "1597463007\n",
      "1597463174"
     ],
     "language": "python",
     "metadata": {},
     "outputs": []
    },
    {
     "cell_type": "code",
     "collapsed": false,
     "input": [
      "results[:,1]"
     ],
     "language": "python",
     "metadata": {},
     "outputs": [
      {
       "metadata": {},
       "output_type": "pyout",
       "prompt_number": 35,
       "text": [
        "array([  1.59726876e+09,   1.59720454e+09,   1.59704454e+09,\n",
        "         1.59703243e+09,   1.59776215e+09,   1.59755978e+09,\n",
        "         1.59756837e+09,   1.59710669e+09,   1.59706424e+09,\n",
        "         1.59709650e+09,   1.59714938e+09,   1.59724576e+09,\n",
        "         1.59722586e+09,   1.59722690e+09,   1.59710912e+09,\n",
        "         1.59707124e+09,   1.59723634e+09,   1.59718640e+09,\n",
        "         1.59718178e+09,   1.59704889e+09,   1.59715500e+09,\n",
        "         1.59791881e+09,   1.59712789e+09,   1.59704479e+09,\n",
        "         1.59783858e+09,   1.59725325e+09,   1.59713789e+09,\n",
        "         1.59715494e+09,   1.59710609e+09,   1.59738810e+09,\n",
        "         1.59705342e+09,   1.59750446e+09,   1.59713466e+09,\n",
        "         1.59748410e+09,   1.59732266e+09,   1.59727934e+09,\n",
        "         1.59716956e+09,   1.59734703e+09,   1.59724544e+09,\n",
        "         1.59789334e+09,   1.59712686e+09,   1.59724679e+09,\n",
        "         1.59711786e+09,   1.59703449e+09,   1.59781712e+09,\n",
        "         1.59784420e+09,   1.59703366e+09,   1.59714529e+09,\n",
        "         1.59704809e+09,   1.59759236e+09,   1.59717060e+09,\n",
        "         1.59739868e+09,   1.59703488e+09,   1.59705624e+09,\n",
        "         1.59704434e+09,   1.59737434e+09,   1.59774247e+09,\n",
        "         1.59713820e+09,   1.59749412e+09,   1.59726606e+09,\n",
        "         1.59714994e+09,   1.59725393e+09,   1.59716775e+09,\n",
        "         1.59712852e+09,   1.59785039e+09,   1.59716666e+09,\n",
        "         1.59713113e+09,   1.59706563e+09,   1.59734788e+09,\n",
        "         1.59771289e+09,   1.59710772e+09,   1.59710941e+09,\n",
        "         1.59715316e+09,   1.59704776e+09,   1.59711292e+09,\n",
        "         1.59722003e+09,   1.59774628e+09,   1.59712571e+09,\n",
        "         1.59722161e+09,   1.59757001e+09,   1.59717370e+09,\n",
        "         1.59734640e+09,   1.59732037e+09,   1.59727282e+09,\n",
        "         1.59703293e+09,   1.59723140e+09,   1.59802196e+09,\n",
        "         1.59718058e+09,   1.59703659e+09,   1.59777735e+09,\n",
        "         1.59707325e+09,   1.59703296e+09,   1.59711411e+09,\n",
        "         1.59705561e+09,   1.59709568e+09,   1.59710788e+09,\n",
        "         1.59757994e+09,   1.59718069e+09,   1.59763125e+09,\n",
        "         1.59764148e+09])"
       ]
      }
     ],
     "prompt_number": 35
    },
    {
     "cell_type": "code",
     "collapsed": false,
     "input": [],
     "language": "python",
     "metadata": {},
     "outputs": []
    }
   ],
   "metadata": {}
  }
 ]
}