{
 "metadata": {
  "name": "",
  "signature": "sha256:8da9d7c646fe205793b306971eba4abda6905e6b41ff29fc52cce00e50fc89eb"
 },
 "nbformat": 3,
 "nbformat_minor": 0,
 "worksheets": [
  {
   "cells": [
    {
     "cell_type": "code",
     "collapsed": false,
     "input": [
      "# Optimal 0x5f37642f\n",
      "# Carmack  0x5f3759df\n",
      "print int('0x5f37642f',16)"
     ],
     "language": "python",
     "metadata": {},
     "outputs": [
      {
       "output_type": "stream",
       "stream": "stdout",
       "text": [
        "1597465647\n"
       ]
      }
     ],
     "prompt_number": 1
    },
    {
     "cell_type": "code",
     "collapsed": false,
     "input": [
      "import binascii\n",
      "\n",
      "binary_string = binascii.unhexlify(hex_string)"
     ],
     "language": "python",
     "metadata": {},
     "outputs": []
    },
    {
     "cell_type": "code",
     "collapsed": false,
     "input": [
      "# Better\n",
      "# float InvSqrt(float x)\n",
      "# {\n",
      "#   float xhalf = 0.5f*x;\n",
      "#   int i = *(int*)&x; // get bits for floating value\n",
      "#   i = 0x5f375a86- (i>>1); // gives initial guess y0\n",
      "#   x = *(float*)&i; // convert bits back to float\n",
      "#   x = x*(1.5f-xhalf*x*x); // Newton step, repeating increases accuracy\n",
      "#   return x;\n",
      "# }"
     ],
     "language": "python",
     "metadata": {},
     "outputs": []
    },
    {
     "cell_type": "code",
     "collapsed": false,
     "input": [
      "# Carmack\n",
      "# /*\n",
      "# ================\n",
      "# SquareRootFloat\n",
      "# ================\n",
      "# */\n",
      "# float SquareRootFloat(float number) {\n",
      "#     long i;\n",
      "#     float x, y;\n",
      "#     const float f = 1.5F;\n",
      "\n",
      "#     x = number * 0.5F;\n",
      "#     y  = number;\n",
      "#     i  = * ( long * ) &y;\n",
      "#     i  = 0x5f3759df - ( i >> 1 );\n",
      "#     y  = * ( float * ) &i;\n",
      "#     y  = y * ( f - ( x * y * y ) );\n",
      "#     y  = y * ( f - ( x * y * y ) );\n",
      "#     return number * y;\n",
      "# }"
     ],
     "language": "python",
     "metadata": {},
     "outputs": []
    },
    {
     "cell_type": "code",
     "collapsed": false,
     "input": [
      "# Applying Newton's method to the equation (1/x^2) - S = 0 produces a method that converges quadratically using three multiplications per step:\n",
      "# x_{n+1} = \\frac{x_n}{2} \\cdot (3 - S \\cdot x_n^2)."
     ],
     "language": "python",
     "metadata": {},
     "outputs": []
    },
    {
     "cell_type": "code",
     "collapsed": false,
     "input": [],
     "language": "python",
     "metadata": {},
     "outputs": []
    }
   ],
   "metadata": {}
  }
 ]
}