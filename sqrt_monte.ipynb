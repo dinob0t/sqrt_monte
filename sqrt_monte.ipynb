{
 "metadata": {
  "name": "",
  "signature": "sha256:7fe03593ad203ba284c75581d08aa6e62f0051d73443f3f760fcbc248819377d"
 },
 "nbformat": 3,
 "nbformat_minor": 0,
 "worksheets": [
  {
   "cells": [
    {
     "cell_type": "code",
     "collapsed": false,
     "input": [
      "# Optimal 0x5f37642f - 1597465647 \n",
      "# Carmack  0x5f3759df - 1597463007 \n",
      "# Better 0x5f375a86 - 1597463174 \n",
      "# print int('0x5f375a86',16)\n",
      "# print bin(int('0x5f375a86',16))"
     ],
     "language": "python",
     "metadata": {},
     "outputs": [],
     "prompt_number": 1
    },
    {
     "cell_type": "code",
     "collapsed": false,
     "input": [
      "# Better\n",
      "# float InvSqrt(float x)\n",
      "# {\n",
      "#   float xhalf = 0.5f*x;\n",
      "#   int i = *(int*)&x; // get bits for floating value\n",
      "#   i = 0x5f375a86- (i>>1); // gives initial guess y0\n",
      "#   x = *(float*)&i; // convert bits back to float\n",
      "#   x = x*(1.5f-xhalf*x*x); // Newton step, repeating increases accuracy\n",
      "#   return x;\n",
      "# }"
     ],
     "language": "python",
     "metadata": {},
     "outputs": [],
     "prompt_number": 2
    },
    {
     "cell_type": "code",
     "collapsed": false,
     "input": [
      "# def newtown_inv_sqrt(x0, S):\n",
      "#     xn = (3.0-S*x0**2.0)*x0/2.0 \n",
      "#     return xn"
     ],
     "language": "python",
     "metadata": {},
     "outputs": [],
     "prompt_number": 3
    },
    {
     "cell_type": "code",
     "collapsed": false,
     "input": [
      "# x1 = 0.08\n",
      "# for i in range(10):\n",
      "#     xn1 =  newtown_inv_sqrt(x1,100.0)\n",
      "#     print xn1\n",
      "#     x1 = xn1\n",
      "# print 1.0/(x1**2.0)"
     ],
     "language": "python",
     "metadata": {},
     "outputs": [],
     "prompt_number": 4
    },
    {
     "cell_type": "code",
     "collapsed": false,
     "input": [
      "import struct\n",
      "import numpy as np\n",
      "from IPython.core.pylabtools import figsize\n",
      "from matplotlib import pyplot as plt\n",
      "from bitstring import BitArray\n",
      "from scipy.stats.mstats import mode\n",
      "\n",
      "from mpl_toolkits.mplot3d import Axes3D\n",
      "from mpl_toolkits.mplot3d import proj3d\n",
      "\n",
      "# %matplotlib inline"
     ],
     "language": "python",
     "metadata": {},
     "outputs": [],
     "prompt_number": 5
    },
    {
     "cell_type": "code",
     "collapsed": false,
     "input": [
      "# def new_sqrt(x):\n",
      "#     last_guess= 1597465647 x/2.0\n",
      "#     while True:\n",
      "#         guess= (last_guess + x/last_guess)/2\n",
      "#         if abs(guess - last_guess) < .000001: # example threshold\n",
      "#             return guess\n",
      "#         last_guess= guess\n",
      "#         print last_guess"
     ],
     "language": "python",
     "metadata": {},
     "outputs": [],
     "prompt_number": 6
    },
    {
     "cell_type": "code",
     "collapsed": false,
     "input": [
      "def shift_right(string_in,n):\n",
      "    string_out = '0'*n+string_in\n",
      "    return string_out[:-n]"
     ],
     "language": "python",
     "metadata": {},
     "outputs": [],
     "prompt_number": 7
    },
    {
     "cell_type": "code",
     "collapsed": false,
     "input": [
      "def estimate_1_sqrt(x, magic):\n",
      "    x = BitArray(float=x, length=32)\n",
      "    x.bin = shift_right(x.bin,1)\n",
      "    guess = magic - x.int\n",
      "    x.int = guess\n",
      "    return x.float"
     ],
     "language": "python",
     "metadata": {},
     "outputs": [],
     "prompt_number": 8
    },
    {
     "cell_type": "code",
     "collapsed": false,
     "input": [
      "# estimate_1_sqrt(1.15625,1597463007)"
     ],
     "language": "python",
     "metadata": {},
     "outputs": [],
     "prompt_number": 9
    },
    {
     "cell_type": "code",
     "collapsed": false,
     "input": [
      "# 1/np.sqrt(1.15625)"
     ],
     "language": "python",
     "metadata": {},
     "outputs": [],
     "prompt_number": 10
    },
    {
     "cell_type": "code",
     "collapsed": false,
     "input": [
      "import pymc as pm"
     ],
     "language": "python",
     "metadata": {},
     "outputs": [],
     "prompt_number": 11
    },
    {
     "cell_type": "code",
     "collapsed": false,
     "input": [
      "# alpha = 1.0 / 1597463007  \n",
      "                               \n",
      "# lambda1 = pm.Exponential(\"lambda1\", alpha)\n",
      "# magics = pm.Poisson(\"magics\", lambda1)\n",
      "\n",
      "magics = pm.DiscreteUniform(\"magics\",lower = 1590000000, upper = 1620000000)\n",
      "\n",
      "nums = pm.Exponential(\"nums\", 1)"
     ],
     "language": "python",
     "metadata": {},
     "outputs": [],
     "prompt_number": 58
    },
    {
     "cell_type": "code",
     "collapsed": false,
     "input": [
      "# @pm.deterministic\n",
      "# def delta(nums=nums,magics=magics):\n",
      "#     guess = estimate_1_sqrt(nums, magics)\n",
      "#     return abs(guess-1.0/np.sqrt(nums))"
     ],
     "language": "python",
     "metadata": {},
     "outputs": [],
     "prompt_number": 13
    },
    {
     "cell_type": "code",
     "collapsed": false,
     "input": [
      "def delta_test(n,m):\n",
      "    guess = estimate_1_sqrt(n, m)\n",
      "    return abs(guess-1.0/np.sqrt(n))"
     ],
     "language": "python",
     "metadata": {},
     "outputs": [],
     "prompt_number": 46
    },
    {
     "cell_type": "code",
     "collapsed": false,
     "input": [
      "# observation = pm.DiscreteUniform(\"obs\", lower=0.0001, upper=0.0002,value = 0.0001, observed=True)\n",
      "\n",
      "# model = pm.Model([observation, magics])"
     ],
     "language": "python",
     "metadata": {},
     "outputs": [],
     "prompt_number": 15
    },
    {
     "cell_type": "code",
     "collapsed": false,
     "input": [
      "# observation.value"
     ],
     "language": "python",
     "metadata": {},
     "outputs": [],
     "prompt_number": 16
    },
    {
     "cell_type": "code",
     "collapsed": false,
     "input": [
      "# mcmc = pm.MCMC(model)\n",
      "# mcmc.sample(40000,10000, 1)"
     ],
     "language": "python",
     "metadata": {},
     "outputs": [],
     "prompt_number": 17
    },
    {
     "cell_type": "code",
     "collapsed": false,
     "input": [
      "# lambda1_samples = mcmc.trace('lambda1')[:]\n",
      "# obs_samples = mcmc.trace('obs')[:]\n",
      "# magics_samples = mcmc.trace('magics')[:]"
     ],
     "language": "python",
     "metadata": {},
     "outputs": [],
     "prompt_number": 18
    },
    {
     "cell_type": "code",
     "collapsed": false,
     "input": [
      "# mcmc.trace('obs')"
     ],
     "language": "python",
     "metadata": {},
     "outputs": [],
     "prompt_number": 19
    },
    {
     "cell_type": "code",
     "collapsed": false,
     "input": [
      "# plt.scatter(range(len(magics_samples)), (magics_samples))\n",
      "# plt.show()"
     ],
     "language": "python",
     "metadata": {},
     "outputs": [],
     "prompt_number": 20
    },
    {
     "cell_type": "code",
     "collapsed": false,
     "input": [
      "# delta_test(nums.random(),1590017610 )"
     ],
     "language": "python",
     "metadata": {},
     "outputs": [],
     "prompt_number": 21
    },
    {
     "cell_type": "code",
     "collapsed": false,
     "input": [
      "# mode(magics_samples,axis=None)[0].astype(np.int)"
     ],
     "language": "python",
     "metadata": {},
     "outputs": [],
     "prompt_number": 22
    },
    {
     "cell_type": "code",
     "collapsed": false,
     "input": [
      "# np.mean(magics_samples)"
     ],
     "language": "python",
     "metadata": {},
     "outputs": [],
     "prompt_number": 23
    },
    {
     "cell_type": "code",
     "collapsed": false,
     "input": [
      "# np.median(magics_samples)"
     ],
     "language": "python",
     "metadata": {},
     "outputs": [],
     "prompt_number": 24
    },
    {
     "cell_type": "code",
     "collapsed": false,
     "input": [
      "samples = 10000\n",
      "results = np.zeros([samples,3])"
     ],
     "language": "python",
     "metadata": {},
     "outputs": [],
     "prompt_number": 59
    },
    {
     "cell_type": "code",
     "collapsed": false,
     "input": [
      "for i in range(samples):\n",
      "    num = nums.random()\n",
      "    magic = magics.random()\n",
      "    z = delta_test(num,magic)\n",
      "\n",
      "    results[i,0] = num\n",
      "    results[i,1] = magic\n",
      "    results[i,2] = z"
     ],
     "language": "python",
     "metadata": {},
     "outputs": [],
     "prompt_number": 60
    },
    {
     "cell_type": "code",
     "collapsed": false,
     "input": [
      "# steps = 1000.0\n",
      "\n",
      "# x_min = np.min(results[:,0])\n",
      "# x_max =np.max(results[:,0])\n",
      "# hx = (x_max - x_min)/steps\n",
      "              \n",
      "# y_min=np.min(results[:,1])\n",
      "# y_max=np.max(results[:,1])\n",
      "# hy = (y_max - y_min)/steps\n",
      "                         \n",
      "# xx, yy = np.meshgrid((np.arange(x_min,x_max), hx),np.arange(y_min, y_max, hy))"
     ],
     "language": "python",
     "metadata": {},
     "outputs": [],
     "prompt_number": 27
    },
    {
     "cell_type": "code",
     "collapsed": false,
     "input": [
      "\n",
      "fig = plt.figure(figsize=(10, 10))\n",
      "\n",
      "ax = fig.add_subplot(1,1,1, projection='3d')\n",
      "# ax.set_autoscaley_on(False)\n",
      "# ax.contourf(xx, yy, results, alpha=.8)\n",
      "x = np.log(results[:,0])\n",
      "y = results[:,1]\n",
      "z = np.log(results[:,2])\n",
      "ax.scatter(x,y,z, 'o', alpha=0.2,c=z)\n",
      "# ax.show()\n",
      "plt.show()"
     ],
     "language": "python",
     "metadata": {},
     "outputs": [],
     "prompt_number": 70
    },
    {
     "cell_type": "code",
     "collapsed": false,
     "input": [
      "results = np.zeros([samples,2])\n",
      "for i in range(samples)\n",
      "    results_mean[i,0] = results[:.mean\n",
      "\n"
     ],
     "language": "python",
     "metadata": {},
     "outputs": []
    },
    {
     "cell_type": "code",
     "collapsed": false,
     "input": [
      "\n",
      "fig = plt.figure(figsize=(10, 10))\n",
      "\n",
      "ax = fig.add_subplot(1,1,1, projection='3d')\n",
      "# ax.set_autoscaley_on(False)\n",
      "# ax.contourf(xx, yy, results, alpha=.8)\n",
      "x = np.log(results[:,0])\n",
      "y = results_sum[:,1]\n",
      "# z = np.log(results[:,2])\n",
      "ax.scatter(x,y, 'o', alpha=0.2)\n",
      "# ax.show()\n",
      "plt.show()"
     ],
     "language": "python",
     "metadata": {},
     "outputs": [
      {
       "ename": "IndexError",
       "evalue": "too many indices",
       "output_type": "pyerr",
       "traceback": [
        "\u001b[0;31m---------------------------------------------------------------------------\u001b[0m\n\u001b[0;31mIndexError\u001b[0m                                Traceback (most recent call last)",
        "\u001b[0;32m<ipython-input-73-ebe78df27315>\u001b[0m in \u001b[0;36m<module>\u001b[0;34m()\u001b[0m\n\u001b[1;32m      6\u001b[0m \u001b[0;31m# ax.contourf(xx, yy, results, alpha=.8)\u001b[0m\u001b[0;34m\u001b[0m\u001b[0;34m\u001b[0m\u001b[0m\n\u001b[1;32m      7\u001b[0m \u001b[0mx\u001b[0m \u001b[0;34m=\u001b[0m \u001b[0mnp\u001b[0m\u001b[0;34m.\u001b[0m\u001b[0mlog\u001b[0m\u001b[0;34m(\u001b[0m\u001b[0mresults\u001b[0m\u001b[0;34m[\u001b[0m\u001b[0;34m:\u001b[0m\u001b[0;34m,\u001b[0m\u001b[0;36m0\u001b[0m\u001b[0;34m]\u001b[0m\u001b[0;34m)\u001b[0m\u001b[0;34m\u001b[0m\u001b[0m\n\u001b[0;32m----> 8\u001b[0;31m \u001b[0my\u001b[0m \u001b[0;34m=\u001b[0m \u001b[0mresults_sum\u001b[0m\u001b[0;34m[\u001b[0m\u001b[0;34m:\u001b[0m\u001b[0;34m,\u001b[0m\u001b[0;36m1\u001b[0m\u001b[0;34m]\u001b[0m\u001b[0;34m\u001b[0m\u001b[0m\n\u001b[0m\u001b[1;32m      9\u001b[0m \u001b[0;31m# z = np.log(results[:,2])\u001b[0m\u001b[0;34m\u001b[0m\u001b[0;34m\u001b[0m\u001b[0m\n\u001b[1;32m     10\u001b[0m \u001b[0max\u001b[0m\u001b[0;34m.\u001b[0m\u001b[0mscatter\u001b[0m\u001b[0;34m(\u001b[0m\u001b[0mx\u001b[0m\u001b[0;34m,\u001b[0m\u001b[0my\u001b[0m\u001b[0;34m,\u001b[0m \u001b[0;34m'o'\u001b[0m\u001b[0;34m,\u001b[0m \u001b[0malpha\u001b[0m\u001b[0;34m=\u001b[0m\u001b[0;36m0.2\u001b[0m\u001b[0;34m)\u001b[0m\u001b[0;34m\u001b[0m\u001b[0m\n",
        "\u001b[0;31mIndexError\u001b[0m: too many indices"
       ]
      }
     ],
     "prompt_number": 73
    },
    {
     "cell_type": "code",
     "collapsed": false,
     "input": [
      "results_sum.shape"
     ],
     "language": "python",
     "metadata": {},
     "outputs": [
      {
       "metadata": {},
       "output_type": "pyout",
       "prompt_number": 78,
       "text": [
        "(10000,)"
       ]
      }
     ],
     "prompt_number": 78
    }
   ],
   "metadata": {}
  }
 ]
}